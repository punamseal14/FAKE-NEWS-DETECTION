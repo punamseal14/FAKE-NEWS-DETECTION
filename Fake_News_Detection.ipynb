{
 "cells": [
  {
   "cell_type": "code",
   "execution_count": 10,
   "id": "0650b0bb",
   "metadata": {},
   "outputs": [],
   "source": [
    "import os\n",
    "os.chdir(\"D:\\Fake News Detection\")"
   ]
  },
  {
   "cell_type": "code",
   "execution_count": 11,
   "id": "4c7484ff",
   "metadata": {},
   "outputs": [],
   "source": [
    "import pandas as pd"
   ]
  },
  {
   "cell_type": "code",
   "execution_count": 13,
   "id": "47122dbf",
   "metadata": {},
   "outputs": [
    {
     "data": {
      "text/html": [
       "<div>\n",
       "<style scoped>\n",
       "    .dataframe tbody tr th:only-of-type {\n",
       "        vertical-align: middle;\n",
       "    }\n",
       "\n",
       "    .dataframe tbody tr th {\n",
       "        vertical-align: top;\n",
       "    }\n",
       "\n",
       "    .dataframe thead th {\n",
       "        text-align: right;\n",
       "    }\n",
       "</style>\n",
       "<table border=\"1\" class=\"dataframe\">\n",
       "  <thead>\n",
       "    <tr style=\"text-align: right;\">\n",
       "      <th></th>\n",
       "      <th>Unnamed: 0</th>\n",
       "      <th>title</th>\n",
       "      <th>text</th>\n",
       "      <th>label</th>\n",
       "    </tr>\n",
       "  </thead>\n",
       "  <tbody>\n",
       "    <tr>\n",
       "      <th>0</th>\n",
       "      <td>8476</td>\n",
       "      <td>You Can Smell Hillary’s Fear</td>\n",
       "      <td>Daniel Greenfield, a Shillman Journalism Fello...</td>\n",
       "      <td>FAKE</td>\n",
       "    </tr>\n",
       "    <tr>\n",
       "      <th>1</th>\n",
       "      <td>10294</td>\n",
       "      <td>Watch The Exact Moment Paul Ryan Committed Pol...</td>\n",
       "      <td>Google Pinterest Digg Linkedin Reddit Stumbleu...</td>\n",
       "      <td>FAKE</td>\n",
       "    </tr>\n",
       "    <tr>\n",
       "      <th>2</th>\n",
       "      <td>3608</td>\n",
       "      <td>Kerry to go to Paris in gesture of sympathy</td>\n",
       "      <td>U.S. Secretary of State John F. Kerry said Mon...</td>\n",
       "      <td>REAL</td>\n",
       "    </tr>\n",
       "    <tr>\n",
       "      <th>3</th>\n",
       "      <td>10142</td>\n",
       "      <td>Bernie supporters on Twitter erupt in anger ag...</td>\n",
       "      <td>— Kaydee King (@KaydeeKing) November 9, 2016 T...</td>\n",
       "      <td>FAKE</td>\n",
       "    </tr>\n",
       "    <tr>\n",
       "      <th>4</th>\n",
       "      <td>875</td>\n",
       "      <td>The Battle of New York: Why This Primary Matters</td>\n",
       "      <td>It's primary day in New York and front-runners...</td>\n",
       "      <td>REAL</td>\n",
       "    </tr>\n",
       "  </tbody>\n",
       "</table>\n",
       "</div>"
      ],
      "text/plain": [
       "   Unnamed: 0                                              title  \\\n",
       "0        8476                       You Can Smell Hillary’s Fear   \n",
       "1       10294  Watch The Exact Moment Paul Ryan Committed Pol...   \n",
       "2        3608        Kerry to go to Paris in gesture of sympathy   \n",
       "3       10142  Bernie supporters on Twitter erupt in anger ag...   \n",
       "4         875   The Battle of New York: Why This Primary Matters   \n",
       "\n",
       "                                                text label  \n",
       "0  Daniel Greenfield, a Shillman Journalism Fello...  FAKE  \n",
       "1  Google Pinterest Digg Linkedin Reddit Stumbleu...  FAKE  \n",
       "2  U.S. Secretary of State John F. Kerry said Mon...  REAL  \n",
       "3  — Kaydee King (@KaydeeKing) November 9, 2016 T...  FAKE  \n",
       "4  It's primary day in New York and front-runners...  REAL  "
      ]
     },
     "execution_count": 13,
     "metadata": {},
     "output_type": "execute_result"
    }
   ],
   "source": [
    "dataframe = pd.read_csv('news.csv')\n",
    "dataframe.head()"
   ]
  },
  {
   "cell_type": "code",
   "execution_count": 14,
   "id": "4084ba04",
   "metadata": {},
   "outputs": [],
   "source": [
    "x = dataframe['text']\n",
    "y = dataframe['label']"
   ]
  },
  {
   "cell_type": "code",
   "execution_count": 15,
   "id": "ede95eb4",
   "metadata": {},
   "outputs": [
    {
     "data": {
      "text/plain": [
       "0       Daniel Greenfield, a Shillman Journalism Fello...\n",
       "1       Google Pinterest Digg Linkedin Reddit Stumbleu...\n",
       "2       U.S. Secretary of State John F. Kerry said Mon...\n",
       "3       — Kaydee King (@KaydeeKing) November 9, 2016 T...\n",
       "4       It's primary day in New York and front-runners...\n",
       "                              ...                        \n",
       "6330    The State Department told the Republican Natio...\n",
       "6331    The ‘P’ in PBS Should Stand for ‘Plutocratic’ ...\n",
       "6332     Anti-Trump Protesters Are Tools of the Oligar...\n",
       "6333    ADDIS ABABA, Ethiopia —President Obama convene...\n",
       "6334    Jeb Bush Is Suddenly Attacking Trump. Here's W...\n",
       "Name: text, Length: 6335, dtype: object"
      ]
     },
     "execution_count": 15,
     "metadata": {},
     "output_type": "execute_result"
    }
   ],
   "source": [
    "x"
   ]
  },
  {
   "cell_type": "code",
   "execution_count": 16,
   "id": "d945e171",
   "metadata": {},
   "outputs": [
    {
     "data": {
      "text/plain": [
       "0       FAKE\n",
       "1       FAKE\n",
       "2       REAL\n",
       "3       FAKE\n",
       "4       REAL\n",
       "        ... \n",
       "6330    REAL\n",
       "6331    FAKE\n",
       "6332    FAKE\n",
       "6333    REAL\n",
       "6334    REAL\n",
       "Name: label, Length: 6335, dtype: object"
      ]
     },
     "execution_count": 16,
     "metadata": {},
     "output_type": "execute_result"
    }
   ],
   "source": [
    "y"
   ]
  },
  {
   "cell_type": "code",
   "execution_count": 17,
   "id": "79347104",
   "metadata": {},
   "outputs": [],
   "source": [
    "from sklearn.model_selection import train_test_split\n",
    "from sklearn.feature_extraction.text import TfidfVectorizer\n",
    "from sklearn.linear_model import PassiveAggressiveClassifier\n",
    "from sklearn.metrics import accuracy_score, confusion_matrix"
   ]
  },
  {
   "cell_type": "code",
   "execution_count": 18,
   "id": "30ca0bca",
   "metadata": {},
   "outputs": [
    {
     "data": {
      "text/plain": [
       "2402    Christian Whiton is a former deputy special en...\n",
       "1922    Super Tuesday Brings Harsh Light And Heartache...\n",
       "3475    Prev post Page 1 of 4 Next \\nNurses are among ...\n",
       "6197    The deadly hostage situation at a luxury hotel...\n",
       "4748    Our new country: Women and minorities hit hard...\n",
       "                              ...                        \n",
       "4931    Twenty-two of the 37 corporations nominated fo...\n",
       "3264    As pieces of luggage, human remains, wreckage ...\n",
       "1653    0 Add Comment \\nIN THE immediate aftermath of ...\n",
       "2607    Palestine Palestinians check the flat of Amjad...\n",
       "2732    For the second week in a row, there was a temp...\n",
       "Name: text, Length: 5068, dtype: object"
      ]
     },
     "execution_count": 18,
     "metadata": {},
     "output_type": "execute_result"
    }
   ],
   "source": [
    "x_train,x_test,y_train,y_test = train_test_split(x,y,test_size=0.2,random_state=0)\n",
    "x_train"
   ]
  },
  {
   "cell_type": "code",
   "execution_count": 19,
   "id": "64b1c581",
   "metadata": {},
   "outputs": [
    {
     "data": {
      "text/plain": [
       "2402    REAL\n",
       "1922    REAL\n",
       "3475    FAKE\n",
       "6197    REAL\n",
       "4748    FAKE\n",
       "        ... \n",
       "4931    REAL\n",
       "3264    REAL\n",
       "1653    FAKE\n",
       "2607    FAKE\n",
       "2732    REAL\n",
       "Name: label, Length: 5068, dtype: object"
      ]
     },
     "execution_count": 19,
     "metadata": {},
     "output_type": "execute_result"
    }
   ],
   "source": [
    "y_train"
   ]
  },
  {
   "cell_type": "code",
   "execution_count": 20,
   "id": "b81c99f7",
   "metadata": {},
   "outputs": [],
   "source": [
    "tfvect = TfidfVectorizer(stop_words='english',max_df=0.7)\n",
    "tfid_x_train=tfvect.fit_transform(x_train)\n",
    "tfid_x_test = tfvect.transform(x_test)"
   ]
  },
  {
   "cell_type": "code",
   "execution_count": 21,
   "id": "96e2efcc",
   "metadata": {},
   "outputs": [
    {
     "name": "stdout",
     "output_type": "stream",
     "text": [
      "  (0, 5434)\t0.04558113027328849\n",
      "  (0, 22112)\t0.03101556231290688\n",
      "  (0, 41980)\t0.041224221139183156\n",
      "  (0, 41399)\t0.08707226417897605\n",
      "  (0, 32656)\t0.05826505252086948\n",
      "  (0, 40634)\t0.08300352400740964\n",
      "  (0, 59168)\t0.03304164565844389\n",
      "  (0, 17072)\t0.015280054882096362\n",
      "  (0, 21122)\t0.03467645674134631\n",
      "  (0, 36500)\t0.036461647252457555\n",
      "  (0, 21811)\t0.021815222286389203\n",
      "  (0, 55510)\t0.037920004934453785\n",
      "  (0, 35473)\t0.025244871570555313\n",
      "  (0, 8579)\t0.03467645674134631\n",
      "  (0, 34917)\t0.05447353166186797\n",
      "  (0, 51186)\t0.027977956004355133\n",
      "  (0, 17007)\t0.020253495378206955\n",
      "  (0, 13362)\t0.023133406428959745\n",
      "  (0, 28054)\t0.026346675461032608\n",
      "  (0, 51479)\t0.04368398576036871\n",
      "  (0, 19911)\t0.03226033674797147\n",
      "  (0, 12812)\t0.021077575874407357\n",
      "  (0, 5104)\t0.0369438299052932\n",
      "  (0, 22586)\t0.03830998824285092\n",
      "  (0, 23706)\t0.03360195028163217\n",
      "  :\t:\n",
      "  (5067, 25947)\t0.0690536695761875\n",
      "  (5067, 20495)\t0.060909276073445075\n",
      "  (5067, 46270)\t0.05755520504375683\n",
      "  (5067, 56317)\t0.0733883544907381\n",
      "  (5067, 59168)\t0.01910506999217599\n",
      "  (5067, 17007)\t0.02342162075017423\n",
      "  (5067, 59558)\t0.03904254730882264\n",
      "  (5067, 52021)\t0.027720561533370613\n",
      "  (5067, 23229)\t0.025035767020752043\n",
      "  (5067, 49613)\t0.048392586173076596\n",
      "  (5067, 7063)\t0.06602578548018748\n",
      "  (5067, 40822)\t0.013544398092458507\n",
      "  (5067, 10428)\t0.021596124032013567\n",
      "  (5067, 23845)\t0.022825957097266317\n",
      "  (5067, 60886)\t0.027688046181183583\n",
      "  (5067, 58904)\t0.13131106310992066\n",
      "  (5067, 32441)\t0.04328723686607527\n",
      "  (5067, 27076)\t0.03456394237568609\n",
      "  (5067, 18277)\t0.018454660544363035\n",
      "  (5067, 16011)\t0.08920302464153039\n",
      "  (5067, 17209)\t0.031075371449895063\n",
      "  (5067, 56179)\t0.03418052065813127\n",
      "  (5067, 17075)\t0.03736169812434056\n",
      "  (5067, 44178)\t0.16113919801316542\n",
      "  (5067, 11545)\t0.025714422946060106\n"
     ]
    }
   ],
   "source": [
    "print(tfid_x_train)"
   ]
  },
  {
   "cell_type": "code",
   "execution_count": 22,
   "id": "8de3574a",
   "metadata": {},
   "outputs": [
    {
     "data": {
      "text/plain": [
       "PassiveAggressiveClassifier(max_iter=50)"
      ]
     },
     "execution_count": 22,
     "metadata": {},
     "output_type": "execute_result"
    }
   ],
   "source": [
    "classifier = PassiveAggressiveClassifier(max_iter=50)\n",
    "classifier.fit(tfid_x_train,y_train)"
   ]
  },
  {
   "cell_type": "code",
   "execution_count": 23,
   "id": "ff1f649b",
   "metadata": {},
   "outputs": [
    {
     "name": "stdout",
     "output_type": "stream",
     "text": [
      "Accuracy: 93.45%\n"
     ]
    }
   ],
   "source": [
    "y_pred = classifier.predict(tfid_x_test)\n",
    "score = accuracy_score(y_test,y_pred)\n",
    "print(f'Accuracy: {round(score*100,2)}%')"
   ]
  },
  {
   "cell_type": "code",
   "execution_count": 24,
   "id": "839f0156",
   "metadata": {},
   "outputs": [
    {
     "name": "stdout",
     "output_type": "stream",
     "text": [
      "[[570  45]\n",
      " [ 38 614]]\n"
     ]
    }
   ],
   "source": [
    "cf = confusion_matrix(y_test,y_pred, labels=['FAKE','REAL'])\n",
    "print(cf)"
   ]
  },
  {
   "cell_type": "code",
   "execution_count": 25,
   "id": "e8365cd6",
   "metadata": {},
   "outputs": [],
   "source": [
    "def fake_news_det(news):\n",
    "    input_data = [news]\n",
    "    vectorized_input_data = tfvect.transform(input_data)\n",
    "    prediction = classifier.predict(vectorized_input_data)\n",
    "    print(prediction)"
   ]
  },
  {
   "cell_type": "code",
   "execution_count": 26,
   "id": "bd68d850",
   "metadata": {},
   "outputs": [
    {
     "name": "stdout",
     "output_type": "stream",
     "text": [
      "['REAL']\n"
     ]
    }
   ],
   "source": [
    "fake_news_det('U.S. Secretary of State John F. Kerry said Monday that he will stop in Paris later this week, amid criticism that no top American officials attended Sundayâ€™s unity march against terrorism.Kerry said he expects to arrive in Paris Thursday evening, as he heads home after a week abroad. He said he will fly to France at the conclusion of a series of meetings scheduled for Thursday in Sofia, Bulgaria. He plans to meet the next day with Foreign Minister Laurent Fabius and President Francois Hollande, then return to Washington.')"
   ]
  },
  {
   "cell_type": "code",
   "execution_count": 27,
   "id": "cb097ab3",
   "metadata": {},
   "outputs": [
    {
     "name": "stdout",
     "output_type": "stream",
     "text": [
      "['FAKE']\n"
     ]
    }
   ],
   "source": [
    "fake_news_det(\"Go to Article Donald Trump was willing to give up a very fulfilling life that took decades to build, so he could step up and take control of an out of control government. He and his family have already sacrificed so much because he chose to put his country first. Making sacrifices is certainly not something loudmouth liberals like Robert DeNiro are accustomed to. DeNiro was very vocal about his opposition to the wildly successful business man Donald J. Trump. He felt so strongly about his hate for Trump that made a video where he angrily stated heâ€™d like to, â€œpunch him in the face.â€ Now that Trump won the election in a landslide, DeNiro has chosen to get behind the Trump rioters who are terrorizing cities across America. Anti-Trump rioters are breaking windows, using baseball bats to smash the windshields of innocent citizens who get trapped in their hellish protests as they try to escape. Women who are taking part in the protests are being punched in the faces by men who are also taking part in the George Soros funded protests. American flags are being burned and families who are walking in major cities are being subjected to the most vile and disgusting, hateful language and images imaginable. If this is the kind of America that Robert DiNero is openly supporting? And if so, why would any American pay to see his movie,â€Comedianâ€? \")"
   ]
  },
  {
   "cell_type": "code",
   "execution_count": 28,
   "id": "ff47161e",
   "metadata": {},
   "outputs": [],
   "source": [
    "import pickle\n",
    "pickle.dump(classifier,open('model.pkl','wb'))"
   ]
  },
  {
   "cell_type": "code",
   "execution_count": 29,
   "id": "6fda3d3a",
   "metadata": {},
   "outputs": [],
   "source": [
    "# load the model from disk\n",
    "loaded_model = pickle.load(open('model.pkl','rb'))"
   ]
  },
  {
   "cell_type": "code",
   "execution_count": null,
   "id": "d61108e9",
   "metadata": {},
   "outputs": [],
   "source": []
  }
 ],
 "metadata": {
  "kernelspec": {
   "display_name": "Python 3",
   "language": "python",
   "name": "python3"
  },
  "language_info": {
   "codemirror_mode": {
    "name": "ipython",
    "version": 3
   },
   "file_extension": ".py",
   "mimetype": "text/x-python",
   "name": "python",
   "nbconvert_exporter": "python",
   "pygments_lexer": "ipython3",
   "version": "3.8.8"
  }
 },
 "nbformat": 4,
 "nbformat_minor": 5
}
